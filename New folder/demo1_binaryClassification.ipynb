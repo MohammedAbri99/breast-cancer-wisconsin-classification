{
 "cells": [
  {
   "cell_type": "markdown",
   "metadata": {
    "id": "zWOu3cLWjbRG"
   },
   "source": [
    "## Binary classification: demo"
   ]
  },
  {
   "cell_type": "code",
   "execution_count": 1,
   "metadata": {
    "id": "1P6ghyzcJs7S"
   },
   "outputs": [],
   "source": [
    "# \n",
    "import numpy as np\n",
    "import random\n",
    "# plot|\n",
    "from matplotlib import pyplot as plt\n",
    "import pandas as pd\n",
    "from matplotlib.colors import ListedColormap\n",
    "# datasets\n",
    "from sklearn.datasets import make_blobs\n",
    "# ML classifiers\n",
    "from sklearn.neighbors import NearestCentroid, KNeighborsClassifier\n",
    "from sklearn.model_selection import train_test_split\n",
    "from sklearn.metrics import accuracy_score\n",
    "from sklearn.preprocessing import MinMaxScaler, StandardScaler\n",
    "from sklearn.feature_selection import SequentialFeatureSelector"
   ]
  },
  {
   "cell_type": "markdown",
   "metadata": {
    "id": "sARZyh9pkEEJ"
   },
   "source": [
    "#### Create the dataset"
   ]
  },
  {
   "cell_type": "code",
   "execution_count": 2,
   "metadata": {
    "id": "Sm1_K9Obj3Fv"
   },
   "outputs": [],
   "source": [
    "# X: features\n",
    "# y: labels in {0, 1}\n",
    "DIM = 20      # number iof features (dimension)\n",
    "CLASSES = 4   # number of classes\n",
    "N = 1000      #number of samples\n",
    "X, y = make_blobs(n_samples = N, centers = CLASSES, n_features = DIM, cluster_std=3)"
   ]
  },
  {
   "cell_type": "code",
   "execution_count": 3,
   "metadata": {
    "colab": {
     "base_uri": "https://localhost:8080/"
    },
    "id": "RQveNHJ_VLFc",
    "outputId": "0dcdcdc8-ff00-4fe3-c1fc-c25e9bbba9f7"
   },
   "outputs": [
    {
     "data": {
      "text/plain": [
       "array([0, 1, 2, 3])"
      ]
     },
     "execution_count": 3,
     "metadata": {},
     "output_type": "execute_result"
    }
   ],
   "source": [
    "np.unique(y)"
   ]
  },
  {
   "cell_type": "code",
   "execution_count": 4,
   "metadata": {
    "colab": {
     "base_uri": "https://localhost:8080/"
    },
    "id": "bhj53UXRR41U",
    "outputId": "7bb8564a-b297-4e1f-b380-c197e740f6fd"
   },
   "outputs": [
    {
     "data": {
      "text/plain": [
       "array([16.11369007, 17.38256606, 17.61759136,  4.94963433, 16.74471744,\n",
       "       14.64294609, 11.46960279, 18.50787008, 12.17335379, 15.42917387,\n",
       "       16.14994651,  8.21737607, 14.85875098, 17.41682545, 17.64351354,\n",
       "        9.70093181, 15.10035692, 17.41744296, 16.54457137, 19.57290743])"
      ]
     },
     "execution_count": 4,
     "metadata": {},
     "output_type": "execute_result"
    }
   ],
   "source": [
    "np.max(X, axis=0)"
   ]
  },
  {
   "cell_type": "code",
   "execution_count": 5,
   "metadata": {
    "id": "lGI5BBuhoFXg"
   },
   "outputs": [],
   "source": [
    "# let change the scale of some features\n",
    "X[:,2] = X[:,2]*1000\n",
    "X[:,4] = X[:,4]*10000\n",
    "X[:,15] = X[:,15]*100"
   ]
  },
  {
   "cell_type": "code",
   "execution_count": 10,
   "metadata": {},
   "outputs": [
    {
     "data": {
      "text/plain": [
       "array([2, 2, 0, 0, 0, 1, 0, 2, 1, 2, 3, 1, 3, 2, 3, 2, 3, 1, 3, 3, 3, 1,\n",
       "       1, 0, 3, 0, 1, 1, 3, 3, 0, 0, 3, 3, 2, 1, 2, 2, 2, 2, 2, 1, 0, 2,\n",
       "       2, 0, 3, 2, 3, 0, 0, 1, 1, 3, 0, 0, 2, 0, 1, 0, 3, 0, 2, 3, 1, 2,\n",
       "       3, 2, 2, 1, 3, 3, 1, 3, 2, 1, 0, 2, 0, 1, 2, 2, 0, 3, 1, 1, 2, 0,\n",
       "       3, 0, 2, 0, 3, 0, 0, 2, 2, 2, 3, 1, 0, 0, 1, 3, 1, 2, 1, 2, 0, 0,\n",
       "       2, 1, 0, 0, 2, 3, 0, 3, 1, 3, 3, 0, 3, 2, 0, 2, 1, 0, 1, 1, 1, 1,\n",
       "       2, 3, 2, 1, 1, 3, 3, 1, 3, 2, 0, 3, 1, 0, 2, 1, 3, 0, 3, 3, 3, 1,\n",
       "       2, 1, 3, 1, 1, 1, 1, 0, 0, 1, 0, 3, 0, 3, 3, 2, 2, 1, 1, 2, 2, 0,\n",
       "       3, 0, 2, 0, 1, 2, 1, 1, 2, 1, 0, 1, 2, 1, 1, 3, 3, 3, 1, 1, 2, 2,\n",
       "       0, 3, 2, 3, 1, 0, 0, 1, 2, 1, 2, 0, 1, 0, 0, 1, 0, 0, 0, 3, 0, 1,\n",
       "       0, 0, 0, 0, 0, 1, 2, 3, 0, 0, 3, 0, 0, 3, 3, 0, 1, 1, 3, 3, 3, 1,\n",
       "       2, 0, 1, 0, 0, 1, 2, 0, 1, 3, 0, 3, 0, 0, 2, 3, 3, 3, 3, 1, 1, 1,\n",
       "       0, 2, 1, 3, 2, 2, 1, 1, 1, 0, 2, 2, 1, 3, 0, 0, 1, 2, 3, 0, 1, 3,\n",
       "       3, 2, 2, 2, 3, 0, 3, 1, 1, 0, 2, 3, 0, 3, 0, 3, 1, 0, 0, 1, 3, 0,\n",
       "       3, 3, 1, 1, 0, 2, 0, 0, 2, 2, 2, 2, 1, 0, 1, 0, 0, 0, 1, 0, 3, 0,\n",
       "       0, 2, 3, 3, 3, 1, 3, 0, 2, 0, 0, 1, 0, 2, 1, 2, 2, 3, 0, 0, 2, 1,\n",
       "       3, 0, 0, 1, 1, 3, 1, 1, 3, 1, 3, 3, 0, 3, 1, 2, 1, 0, 1, 1, 3, 2,\n",
       "       1, 0, 1, 3, 2, 3, 2, 0, 0, 0, 3, 3, 0, 3, 1, 2, 0, 2, 3, 0, 2, 2,\n",
       "       3, 2, 2, 3, 1, 1, 1, 2, 0, 3, 1, 1, 1, 2, 2, 2, 0, 1, 0, 2, 3, 0,\n",
       "       3, 0, 1, 0, 0, 1, 1, 0, 0, 3, 0, 1, 3, 2, 3, 0, 1, 0, 0, 0, 0, 3,\n",
       "       0, 3, 3, 1, 2, 2, 1, 2, 2, 3, 1, 0, 3, 3, 1, 0, 3, 0, 3, 0, 0, 0,\n",
       "       2, 2, 3, 3, 1, 1, 2, 1, 0, 0, 0, 3, 2, 3, 1, 0, 1, 0, 2, 0, 2, 3,\n",
       "       3, 3, 1, 0, 1, 2, 1, 1, 0, 3, 0, 1, 2, 0, 1, 1, 3, 0, 0, 2, 3, 3,\n",
       "       1, 0, 3, 0, 0, 0, 3, 2, 3, 2, 0, 1, 2, 1, 2, 3, 0, 1, 0, 1, 2, 3,\n",
       "       3, 2, 3, 3, 1, 3, 2, 0, 1, 0, 1, 2, 2, 0, 2, 3, 2, 3, 0, 3, 1, 0,\n",
       "       2, 0, 1, 0, 2, 3, 2, 2, 2, 3, 2, 0, 0, 2, 2, 3, 0, 3, 3, 1, 1, 1,\n",
       "       2, 1, 2, 2, 1, 3, 0, 0, 0, 3, 1, 3, 2, 3, 0, 1, 2, 1, 0, 3, 1, 0,\n",
       "       0, 0, 0, 3, 2, 1, 2, 3, 1, 2, 1, 3, 3, 1, 3, 3, 2, 1, 2, 1, 0, 2,\n",
       "       2, 0, 1, 0, 1, 3, 0, 1, 0, 2, 0, 1, 3, 0, 0, 1, 2, 2, 2, 3, 1, 1,\n",
       "       1, 1, 1, 1, 1, 3, 2, 3, 3, 2, 0, 0, 2, 2, 3, 2, 2, 2, 0, 0, 0, 1,\n",
       "       2, 1, 2, 2, 3, 3, 0, 3, 1, 1, 1, 1, 2, 0, 1, 3, 3, 0, 1, 2, 2, 2,\n",
       "       3, 2, 3, 1, 3, 2, 3, 2, 3, 0, 3, 0, 2, 2, 2, 3, 3, 2, 3, 1, 2, 3,\n",
       "       2, 2, 3, 1, 1, 2, 1, 2, 3, 2, 3, 1, 3, 2, 2, 3, 1, 1, 3, 2, 3, 3,\n",
       "       0, 1, 2, 2, 0, 3, 0, 1, 2, 0, 2, 3, 2, 3, 0, 2, 3, 2, 2, 1, 0, 1,\n",
       "       0, 0, 0, 0, 2, 1, 0, 0, 1, 0, 0, 3, 2, 1, 2, 2, 3, 0, 0, 2, 3, 1,\n",
       "       2, 1, 0, 3, 1, 2, 2, 0, 2, 1, 3, 2, 1, 3, 1, 2, 3, 2, 1, 2, 3, 2,\n",
       "       2, 3, 2, 2, 1, 1, 2, 3, 3, 1, 2, 3, 0, 1, 0, 3, 3, 3, 1, 3, 1, 3,\n",
       "       2, 2, 1, 2, 2, 1, 3, 1, 3, 2, 3, 1, 1, 0, 2, 3, 2, 2, 3, 0, 3, 2,\n",
       "       2, 2, 0, 0, 3, 0, 2, 2, 3, 1, 1, 3, 1, 0, 0, 3, 3, 3, 2, 3, 3, 3,\n",
       "       3, 0, 2, 3, 0, 1, 3, 0, 0, 3, 3, 0, 3, 2, 0, 2, 2, 0, 3, 3, 1, 0,\n",
       "       1, 1, 2, 3, 3, 1, 2, 2, 2, 2, 3, 3, 3, 1, 3, 3, 3, 2, 3, 0, 3, 1,\n",
       "       2, 3, 1, 1, 2, 1, 1, 2, 0, 0, 2, 0, 3, 0, 2, 1, 1, 1, 2, 0, 3, 0,\n",
       "       1, 2, 2, 3, 1, 0, 3, 1, 3, 3, 3, 2, 0, 3, 0, 0, 1, 2, 1, 0, 1, 2,\n",
       "       1, 1, 1, 1, 1, 1, 1, 3, 2, 1, 3, 2, 3, 0, 0, 0, 2, 2, 1, 2, 2, 0,\n",
       "       2, 0, 1, 1, 0, 1, 2, 3, 3, 0, 1, 2, 0, 2, 0, 2, 2, 2, 2, 0, 2, 0,\n",
       "       0, 1, 1, 0, 3, 1, 1, 1, 1, 2])"
      ]
     },
     "execution_count": 10,
     "metadata": {},
     "output_type": "execute_result"
    }
   ],
   "source": [
    "y"
   ]
  },
  {
   "cell_type": "markdown",
   "metadata": {
    "id": "KOP9RYpIkmA6"
   },
   "source": [
    "#### Plot"
   ]
  },
  {
   "cell_type": "code",
   "execution_count": 6,
   "metadata": {
    "colab": {
     "base_uri": "https://localhost:8080/",
     "height": 334
    },
    "id": "Ld4ZH6YZklCT",
    "outputId": "62d36b06-b7d0-4ba2-c595-3aa414215a9f"
   },
   "outputs": [
    {
     "data": {
      "image/png": "[encoded data removed]",
      "text/plain": [
       "<Figure size 360x360 with 1 Axes>"
      ]
     },
     "metadata": {
      "needs_background": "light"
     },
     "output_type": "display_data"
    }
   ],
   "source": [
    "# set the size of the figure\n",
    "plt.figure(figsize=(5,5))\n",
    "# plot the scatter of the sample with the feature 0 and 1\n",
    "colors = ListedColormap(['blue', 'red', 'black', 'magenta'])\n",
    "f1, f2 = 2,18\n",
    "plt.scatter(x=X[:,f1], y=X[:,f2], c = y, marker='+', cmap=colors)\n",
    "plt.xlabel('x'+str(f1))\n",
    "plt.ylabel('x'+str(f2))\n",
    "plt.show()"
   ]
  },
  {
   "cell_type": "markdown",
   "metadata": {
    "id": "QjRf1UV4mzOK"
   },
   "source": [
    "### Display the scale of the features"
   ]
  },
  {
   "cell_type": "code",
   "execution_count": 216,
   "metadata": {
    "colab": {
     "base_uri": "https://localhost:8080/",
     "height": 299
    },
    "id": "xoznsmvvlm9d",
    "outputId": "dae94790-8bfd-4ad4-93f4-8a3e5896cd18"
   },
   "outputs": [
    {
     "data": {
      "text/html": [
       "\n",
       "  <div id=\"df-773a7221-8a52-4b68-ac08-66405557e1ae\">\n",
       "    <div class=\"colab-df-container\">\n",
       "      <div>\n",
       "<style scoped>\n",
       "    .dataframe tbody tr th:only-of-type {\n",
       "        vertical-align: middle;\n",
       "    }\n",
       "\n",
       "    .dataframe tbody tr th {\n",
       "        vertical-align: top;\n",
       "    }\n",
       "\n",
       "    .dataframe thead th {\n",
       "        text-align: right;\n",
       "    }\n",
       "</style>\n",
       "<table border=\"1\" class=\"dataframe\">\n",
       "  <thead>\n",
       "    <tr style=\"text-align: right;\">\n",
       "      <th></th>\n",
       "      <th>x0</th>\n",
       "      <th>x1</th>\n",
       "      <th>x2</th>\n",
       "      <th>x3</th>\n",
       "      <th>x4</th>\n",
       "      <th>x5</th>\n",
       "      <th>x6</th>\n",
       "      <th>x7</th>\n",
       "      <th>x8</th>\n",
       "      <th>x9</th>\n",
       "      <th>...</th>\n",
       "      <th>x11</th>\n",
       "      <th>x12</th>\n",
       "      <th>x13</th>\n",
       "      <th>x14</th>\n",
       "      <th>x15</th>\n",
       "      <th>x16</th>\n",
       "      <th>x17</th>\n",
       "      <th>x18</th>\n",
       "      <th>x19</th>\n",
       "      <th>label</th>\n",
       "    </tr>\n",
       "  </thead>\n",
       "  <tbody>\n",
       "    <tr>\n",
       "      <th>0</th>\n",
       "      <td>-6.840025</td>\n",
       "      <td>-0.567893</td>\n",
       "      <td>6709.388148</td>\n",
       "      <td>-9.472552</td>\n",
       "      <td>-60227.486698</td>\n",
       "      <td>-11.074724</td>\n",
       "      <td>-3.088719</td>\n",
       "      <td>-1.394860</td>\n",
       "      <td>0.909513</td>\n",
       "      <td>-10.608566</td>\n",
       "      <td>...</td>\n",
       "      <td>-3.012993</td>\n",
       "      <td>2.603505</td>\n",
       "      <td>-4.126483</td>\n",
       "      <td>1.676562</td>\n",
       "      <td>-899.244038</td>\n",
       "      <td>-1.292826</td>\n",
       "      <td>-4.861044</td>\n",
       "      <td>8.322465</td>\n",
       "      <td>-2.915666</td>\n",
       "      <td>3</td>\n",
       "    </tr>\n",
       "    <tr>\n",
       "      <th>1</th>\n",
       "      <td>5.030415</td>\n",
       "      <td>-8.104817</td>\n",
       "      <td>-4250.948109</td>\n",
       "      <td>1.625777</td>\n",
       "      <td>-5721.436915</td>\n",
       "      <td>-11.452595</td>\n",
       "      <td>-7.541498</td>\n",
       "      <td>-5.062160</td>\n",
       "      <td>6.425070</td>\n",
       "      <td>2.936731</td>\n",
       "      <td>...</td>\n",
       "      <td>-7.157410</td>\n",
       "      <td>-4.206114</td>\n",
       "      <td>-2.463999</td>\n",
       "      <td>9.547906</td>\n",
       "      <td>664.815038</td>\n",
       "      <td>-3.197649</td>\n",
       "      <td>3.317199</td>\n",
       "      <td>4.848395</td>\n",
       "      <td>-4.784664</td>\n",
       "      <td>2</td>\n",
       "    </tr>\n",
       "    <tr>\n",
       "      <th>2</th>\n",
       "      <td>3.030062</td>\n",
       "      <td>-5.158183</td>\n",
       "      <td>-933.351250</td>\n",
       "      <td>1.183003</td>\n",
       "      <td>-34241.404189</td>\n",
       "      <td>-6.548966</td>\n",
       "      <td>-4.619064</td>\n",
       "      <td>-2.206016</td>\n",
       "      <td>3.775592</td>\n",
       "      <td>8.603498</td>\n",
       "      <td>...</td>\n",
       "      <td>-6.959685</td>\n",
       "      <td>-1.219682</td>\n",
       "      <td>-4.780253</td>\n",
       "      <td>9.924528</td>\n",
       "      <td>194.701975</td>\n",
       "      <td>-6.463440</td>\n",
       "      <td>-0.004263</td>\n",
       "      <td>4.049895</td>\n",
       "      <td>-6.012320</td>\n",
       "      <td>2</td>\n",
       "    </tr>\n",
       "    <tr>\n",
       "      <th>3</th>\n",
       "      <td>-4.899141</td>\n",
       "      <td>-1.215524</td>\n",
       "      <td>8608.876683</td>\n",
       "      <td>-8.880988</td>\n",
       "      <td>-77433.370026</td>\n",
       "      <td>-7.112614</td>\n",
       "      <td>-1.736143</td>\n",
       "      <td>-4.140140</td>\n",
       "      <td>0.050063</td>\n",
       "      <td>1.316462</td>\n",
       "      <td>...</td>\n",
       "      <td>-4.423052</td>\n",
       "      <td>7.790605</td>\n",
       "      <td>-8.634677</td>\n",
       "      <td>-5.285915</td>\n",
       "      <td>-707.937202</td>\n",
       "      <td>3.018981</td>\n",
       "      <td>1.737176</td>\n",
       "      <td>3.618746</td>\n",
       "      <td>-13.950225</td>\n",
       "      <td>3</td>\n",
       "    </tr>\n",
       "    <tr>\n",
       "      <th>4</th>\n",
       "      <td>-7.000062</td>\n",
       "      <td>-6.020126</td>\n",
       "      <td>8420.021907</td>\n",
       "      <td>-8.820733</td>\n",
       "      <td>-41282.178987</td>\n",
       "      <td>-14.796566</td>\n",
       "      <td>1.312716</td>\n",
       "      <td>-0.170343</td>\n",
       "      <td>0.487874</td>\n",
       "      <td>-6.321453</td>\n",
       "      <td>...</td>\n",
       "      <td>4.706662</td>\n",
       "      <td>5.164275</td>\n",
       "      <td>-10.510979</td>\n",
       "      <td>-0.746425</td>\n",
       "      <td>-176.380662</td>\n",
       "      <td>-2.907483</td>\n",
       "      <td>-2.176680</td>\n",
       "      <td>7.074240</td>\n",
       "      <td>-3.673727</td>\n",
       "      <td>3</td>\n",
       "    </tr>\n",
       "  </tbody>\n",
       "</table>\n",
       "<p>5 rows × 21 columns</p>\n",
       "</div>\n",
       "      <button class=\"colab-df-convert\" onclick=\"convertToInteractive('df-773a7221-8a52-4b68-ac08-66405557e1ae')\"\n",
       "              title=\"Convert this dataframe to an interactive table.\"\n",
       "              style=\"display:none;\">\n",
       "        \n",
       "  <svg xmlns=\"http://www.w3.org/2000/svg\" height=\"24px\"viewBox=\"0 0 24 24\"\n",
       "       width=\"24px\">\n",
       "    <path d=\"M0 0h24v24H0V0z\" fill=\"none\"/>\n",
       "    <path d=\"M18.56 5.44l.94 2.06.94-2.06 2.06-.94-2.06-.94-.94-2.06-.94 2.06-2.06.94zm-11 1L8.5 8.5l.94-2.06 2.06-.94-2.06-.94L8.5 2.5l-.94 2.06-2.06.94zm10 10l.94 2.06.94-2.06 2.06-.94-2.06-.94-.94-2.06-.94 2.06-2.06.94z\"/><path d=\"M17.41 7.96l-1.37-1.37c-.4-.4-.92-.59-1.43-.59-.52 0-1.04.2-1.43.59L10.3 9.45l-7.72 7.72c-.78.78-.78 2.05 0 2.83L4 21.41c.39.39.9.59 1.41.59.51 0 1.02-.2 1.41-.59l7.78-7.78 2.81-2.81c.8-.78.8-2.07 0-2.86zM5.41 20L4 18.59l7.72-7.72 1.47 1.35L5.41 20z\"/>\n",
       "  </svg>\n",
       "      </button>\n",
       "      \n",
       "  <style>\n",
       "    .colab-df-container {\n",
       "      display:flex;\n",
       "      flex-wrap:wrap;\n",
       "      gap: 12px;\n",
       "    }\n",
       "\n",
       "    .colab-df-convert {\n",
       "      background-color: #E8F0FE;\n",
       "      border: none;\n",
       "      border-radius: 50%;\n",
       "      cursor: pointer;\n",
       "      display: none;\n",
       "      fill: #1967D2;\n",
       "      height: 32px;\n",
       "      padding: 0 0 0 0;\n",
       "      width: 32px;\n",
       "    }\n",
       "\n",
       "    .colab-df-convert:hover {\n",
       "      background-color: #E2EBFA;\n",
       "      box-shadow: 0px 1px 2px rgba(60, 64, 67, 0.3), 0px 1px 3px 1px rgba(60, 64, 67, 0.15);\n",
       "      fill: #174EA6;\n",
       "    }\n",
       "\n",
       "    [theme=dark] .colab-df-convert {\n",
       "      background-color: #3B4455;\n",
       "      fill: #D2E3FC;\n",
       "    }\n",
       "\n",
       "    [theme=dark] .colab-df-convert:hover {\n",
       "      background-color: #434B5C;\n",
       "      box-shadow: 0px 1px 3px 1px rgba(0, 0, 0, 0.15);\n",
       "      filter: drop-shadow(0px 1px 2px rgba(0, 0, 0, 0.3));\n",
       "      fill: #FFFFFF;\n",
       "    }\n",
       "  </style>\n",
       "\n",
       "      <script>\n",
       "        const buttonEl =\n",
       "          document.querySelector('#df-773a7221-8a52-4b68-ac08-66405557e1ae button.colab-df-convert');\n",
       "        buttonEl.style.display =\n",
       "          google.colab.kernel.accessAllowed ? 'block' : 'none';\n",
       "\n",
       "        async function convertToInteractive(key) {\n",
       "          const element = document.querySelector('#df-773a7221-8a52-4b68-ac08-66405557e1ae');\n",
       "          const dataTable =\n",
       "            await google.colab.kernel.invokeFunction('convertToInteractive',\n",
       "                                                     [key], {});\n",
       "          if (!dataTable) return;\n",
       "\n",
       "          const docLinkHtml = 'Like what you see? Visit the ' +\n",
       "            '<a target=\"_blank\" href=https://colab.research.google.com/notebooks/data_table.ipynb>data table notebook</a>'\n",
       "            + ' to learn more about interactive tables.';\n",
       "          element.innerHTML = '';\n",
       "          dataTable['output_type'] = 'display_data';\n",
       "          await google.colab.output.renderOutput(dataTable, element);\n",
       "          const docLink = document.createElement('div');\n",
       "          docLink.innerHTML = docLinkHtml;\n",
       "          element.appendChild(docLink);\n",
       "        }\n",
       "      </script>\n",
       "    </div>\n",
       "  </div>\n",
       "  "
      ],
      "text/plain": [
       "         x0        x1           x2        x3            x4         x5  \\\n",
       "0 -6.840025 -0.567893  6709.388148 -9.472552 -60227.486698 -11.074724   \n",
       "1  5.030415 -8.104817 -4250.948109  1.625777  -5721.436915 -11.452595   \n",
       "2  3.030062 -5.158183  -933.351250  1.183003 -34241.404189  -6.548966   \n",
       "3 -4.899141 -1.215524  8608.876683 -8.880988 -77433.370026  -7.112614   \n",
       "4 -7.000062 -6.020126  8420.021907 -8.820733 -41282.178987 -14.796566   \n",
       "\n",
       "         x6        x7        x8         x9  ...       x11       x12  \\\n",
       "0 -3.088719 -1.394860  0.909513 -10.608566  ... -3.012993  2.603505   \n",
       "1 -7.541498 -5.062160  6.425070   2.936731  ... -7.157410 -4.206114   \n",
       "2 -4.619064 -2.206016  3.775592   8.603498  ... -6.959685 -1.219682   \n",
       "3 -1.736143 -4.140140  0.050063   1.316462  ... -4.423052  7.790605   \n",
       "4  1.312716 -0.170343  0.487874  -6.321453  ...  4.706662  5.164275   \n",
       "\n",
       "         x13       x14         x15       x16       x17       x18        x19  \\\n",
       "0  -4.126483  1.676562 -899.244038 -1.292826 -4.861044  8.322465  -2.915666   \n",
       "1  -2.463999  9.547906  664.815038 -3.197649  3.317199  4.848395  -4.784664   \n",
       "2  -4.780253  9.924528  194.701975 -6.463440 -0.004263  4.049895  -6.012320   \n",
       "3  -8.634677 -5.285915 -707.937202  3.018981  1.737176  3.618746 -13.950225   \n",
       "4 -10.510979 -0.746425 -176.380662 -2.907483 -2.176680  7.074240  -3.673727   \n",
       "\n",
       "   label  \n",
       "0      3  \n",
       "1      2  \n",
       "2      2  \n",
       "3      3  \n",
       "4      3  \n",
       "\n",
       "[5 rows x 21 columns]"
      ]
     },
     "execution_count": 216,
     "metadata": {},
     "output_type": "execute_result"
    }
   ],
   "source": [
    "# use pandas facilities\n",
    "# compose the dataframe from (X,y )\n",
    "feature_names = ['x'+str(i) for i in range(DIM)]\n",
    "df = pd.DataFrame(data = X, columns = feature_names)\n",
    "df['label'] =y\n",
    "df.head()"
   ]
  },
  {
   "cell_type": "code",
   "execution_count": 217,
   "metadata": {
    "colab": {
     "base_uri": "https://localhost:8080/",
     "height": 394
    },
    "id": "BENR211FmLg-",
    "outputId": "7e0b7779-1b27-4802-c93b-3490ffe7dd7d"
   },
   "outputs": [
    {
     "data": {
      "text/html": [
       "\n",
       "  <div id=\"df-21c6e803-5a8e-4607-b689-88c836c1e1cf\">\n",
       "    <div class=\"colab-df-container\">\n",
       "      <div>\n",
       "<style scoped>\n",
       "    .dataframe tbody tr th:only-of-type {\n",
       "        vertical-align: middle;\n",
       "    }\n",
       "\n",
       "    .dataframe tbody tr th {\n",
       "        vertical-align: top;\n",
       "    }\n",
       "\n",
       "    .dataframe thead th {\n",
       "        text-align: right;\n",
       "    }\n",
       "</style>\n",
       "<table border=\"1\" class=\"dataframe\">\n",
       "  <thead>\n",
       "    <tr style=\"text-align: right;\">\n",
       "      <th></th>\n",
       "      <th>x0</th>\n",
       "      <th>x1</th>\n",
       "      <th>x2</th>\n",
       "      <th>x3</th>\n",
       "      <th>x4</th>\n",
       "      <th>x5</th>\n",
       "      <th>x6</th>\n",
       "      <th>x7</th>\n",
       "      <th>x8</th>\n",
       "      <th>x9</th>\n",
       "      <th>...</th>\n",
       "      <th>x11</th>\n",
       "      <th>x12</th>\n",
       "      <th>x13</th>\n",
       "      <th>x14</th>\n",
       "      <th>x15</th>\n",
       "      <th>x16</th>\n",
       "      <th>x17</th>\n",
       "      <th>x18</th>\n",
       "      <th>x19</th>\n",
       "      <th>label</th>\n",
       "    </tr>\n",
       "  </thead>\n",
       "  <tbody>\n",
       "    <tr>\n",
       "      <th>count</th>\n",
       "      <td>1000.000000</td>\n",
       "      <td>1000.000000</td>\n",
       "      <td>1000.000000</td>\n",
       "      <td>1000.000000</td>\n",
       "      <td>1000.000000</td>\n",
       "      <td>1000.000000</td>\n",
       "      <td>1000.000000</td>\n",
       "      <td>1000.000000</td>\n",
       "      <td>1000.000000</td>\n",
       "      <td>1000.000000</td>\n",
       "      <td>...</td>\n",
       "      <td>1000.000000</td>\n",
       "      <td>1000.000000</td>\n",
       "      <td>1000.000000</td>\n",
       "      <td>1000.000000</td>\n",
       "      <td>1000.000000</td>\n",
       "      <td>1000.000000</td>\n",
       "      <td>1000.000000</td>\n",
       "      <td>1000.000000</td>\n",
       "      <td>1000.000000</td>\n",
       "      <td>1000.000000</td>\n",
       "    </tr>\n",
       "    <tr>\n",
       "      <th>mean</th>\n",
       "      <td>-0.446480</td>\n",
       "      <td>-3.258422</td>\n",
       "      <td>972.164443</td>\n",
       "      <td>2.683595</td>\n",
       "      <td>-15223.844321</td>\n",
       "      <td>-3.307760</td>\n",
       "      <td>-0.698090</td>\n",
       "      <td>1.167586</td>\n",
       "      <td>-0.287445</td>\n",
       "      <td>-1.319686</td>\n",
       "      <td>...</td>\n",
       "      <td>-2.735626</td>\n",
       "      <td>-0.240692</td>\n",
       "      <td>-5.374137</td>\n",
       "      <td>3.675314</td>\n",
       "      <td>24.358780</td>\n",
       "      <td>1.084296</td>\n",
       "      <td>3.546447</td>\n",
       "      <td>1.811112</td>\n",
       "      <td>-4.814180</td>\n",
       "      <td>1.500000</td>\n",
       "    </tr>\n",
       "    <tr>\n",
       "      <th>std</th>\n",
       "      <td>4.848252</td>\n",
       "      <td>3.821898</td>\n",
       "      <td>6014.096180</td>\n",
       "      <td>8.101386</td>\n",
       "      <td>46492.138392</td>\n",
       "      <td>7.153350</td>\n",
       "      <td>6.353717</td>\n",
       "      <td>6.219099</td>\n",
       "      <td>4.482543</td>\n",
       "      <td>7.948301</td>\n",
       "      <td>...</td>\n",
       "      <td>5.947110</td>\n",
       "      <td>7.226563</td>\n",
       "      <td>3.964847</td>\n",
       "      <td>5.222162</td>\n",
       "      <td>634.547476</td>\n",
       "      <td>4.667791</td>\n",
       "      <td>5.043209</td>\n",
       "      <td>6.853393</td>\n",
       "      <td>5.278691</td>\n",
       "      <td>1.118593</td>\n",
       "    </tr>\n",
       "    <tr>\n",
       "      <th>min</th>\n",
       "      <td>-14.148505</td>\n",
       "      <td>-14.903757</td>\n",
       "      <td>-10812.703141</td>\n",
       "      <td>-18.447797</td>\n",
       "      <td>-134363.352678</td>\n",
       "      <td>-17.005798</td>\n",
       "      <td>-16.321447</td>\n",
       "      <td>-13.348064</td>\n",
       "      <td>-12.251716</td>\n",
       "      <td>-17.723157</td>\n",
       "      <td>...</td>\n",
       "      <td>-15.939166</td>\n",
       "      <td>-17.822569</td>\n",
       "      <td>-17.014093</td>\n",
       "      <td>-7.924312</td>\n",
       "      <td>-1490.411043</td>\n",
       "      <td>-10.783135</td>\n",
       "      <td>-10.775471</td>\n",
       "      <td>-16.603713</td>\n",
       "      <td>-16.427949</td>\n",
       "      <td>0.000000</td>\n",
       "    </tr>\n",
       "    <tr>\n",
       "      <th>25%</th>\n",
       "      <td>-4.238572</td>\n",
       "      <td>-5.781788</td>\n",
       "      <td>-3451.648280</td>\n",
       "      <td>-3.010019</td>\n",
       "      <td>-48570.584249</td>\n",
       "      <td>-8.532087</td>\n",
       "      <td>-5.310980</td>\n",
       "      <td>-3.878949</td>\n",
       "      <td>-3.485504</td>\n",
       "      <td>-8.829510</td>\n",
       "      <td>...</td>\n",
       "      <td>-7.731201</td>\n",
       "      <td>-6.856448</td>\n",
       "      <td>-8.262544</td>\n",
       "      <td>-0.468164</td>\n",
       "      <td>-494.470697</td>\n",
       "      <td>-2.537098</td>\n",
       "      <td>-0.381673</td>\n",
       "      <td>-3.401689</td>\n",
       "      <td>-8.510613</td>\n",
       "      <td>0.750000</td>\n",
       "    </tr>\n",
       "    <tr>\n",
       "      <th>50%</th>\n",
       "      <td>-0.206050</td>\n",
       "      <td>-3.100466</td>\n",
       "      <td>-692.774311</td>\n",
       "      <td>5.136430</td>\n",
       "      <td>-23643.188750</td>\n",
       "      <td>-5.644529</td>\n",
       "      <td>-0.894733</td>\n",
       "      <td>0.529786</td>\n",
       "      <td>-0.034850</td>\n",
       "      <td>-1.340854</td>\n",
       "      <td>...</td>\n",
       "      <td>-2.922588</td>\n",
       "      <td>-0.257889</td>\n",
       "      <td>-5.631448</td>\n",
       "      <td>3.553629</td>\n",
       "      <td>-52.295104</td>\n",
       "      <td>1.010569</td>\n",
       "      <td>3.508942</td>\n",
       "      <td>3.443937</td>\n",
       "      <td>-5.891443</td>\n",
       "      <td>1.500000</td>\n",
       "    </tr>\n",
       "    <tr>\n",
       "      <th>75%</th>\n",
       "      <td>3.227986</td>\n",
       "      <td>-0.745846</td>\n",
       "      <td>4873.177847</td>\n",
       "      <td>9.007916</td>\n",
       "      <td>17838.612565</td>\n",
       "      <td>1.604637</td>\n",
       "      <td>3.644983</td>\n",
       "      <td>5.893293</td>\n",
       "      <td>2.778840</td>\n",
       "      <td>6.239338</td>\n",
       "      <td>...</td>\n",
       "      <td>2.259061</td>\n",
       "      <td>6.335427</td>\n",
       "      <td>-2.822518</td>\n",
       "      <td>7.813286</td>\n",
       "      <td>537.951245</td>\n",
       "      <td>4.632213</td>\n",
       "      <td>7.472954</td>\n",
       "      <td>6.937103</td>\n",
       "      <td>-1.221350</td>\n",
       "      <td>2.250000</td>\n",
       "    </tr>\n",
       "    <tr>\n",
       "      <th>max</th>\n",
       "      <td>13.328351</td>\n",
       "      <td>7.490518</td>\n",
       "      <td>21240.793243</td>\n",
       "      <td>18.777423</td>\n",
       "      <td>117789.412344</td>\n",
       "      <td>16.339945</td>\n",
       "      <td>16.955888</td>\n",
       "      <td>17.004956</td>\n",
       "      <td>12.756255</td>\n",
       "      <td>15.230422</td>\n",
       "      <td>...</td>\n",
       "      <td>11.568534</td>\n",
       "      <td>15.149617</td>\n",
       "      <td>5.356590</td>\n",
       "      <td>18.780347</td>\n",
       "      <td>1866.109336</td>\n",
       "      <td>14.947688</td>\n",
       "      <td>16.889006</td>\n",
       "      <td>16.908193</td>\n",
       "      <td>10.902549</td>\n",
       "      <td>3.000000</td>\n",
       "    </tr>\n",
       "  </tbody>\n",
       "</table>\n",
       "<p>8 rows × 21 columns</p>\n",
       "</div>\n",
       "      <button class=\"colab-df-convert\" onclick=\"convertToInteractive('df-21c6e803-5a8e-4607-b689-88c836c1e1cf')\"\n",
       "              title=\"Convert this dataframe to an interactive table.\"\n",
       "              style=\"display:none;\">\n",
       "        \n",
       "  <svg xmlns=\"http://www.w3.org/2000/svg\" height=\"24px\"viewBox=\"0 0 24 24\"\n",
       "       width=\"24px\">\n",
       "    <path d=\"M0 0h24v24H0V0z\" fill=\"none\"/>\n",
       "    <path d=\"M18.56 5.44l.94 2.06.94-2.06 2.06-.94-2.06-.94-.94-2.06-.94 2.06-2.06.94zm-11 1L8.5 8.5l.94-2.06 2.06-.94-2.06-.94L8.5 2.5l-.94 2.06-2.06.94zm10 10l.94 2.06.94-2.06 2.06-.94-2.06-.94-.94-2.06-.94 2.06-2.06.94z\"/><path d=\"M17.41 7.96l-1.37-1.37c-.4-.4-.92-.59-1.43-.59-.52 0-1.04.2-1.43.59L10.3 9.45l-7.72 7.72c-.78.78-.78 2.05 0 2.83L4 21.41c.39.39.9.59 1.41.59.51 0 1.02-.2 1.41-.59l7.78-7.78 2.81-2.81c.8-.78.8-2.07 0-2.86zM5.41 20L4 18.59l7.72-7.72 1.47 1.35L5.41 20z\"/>\n",
       "  </svg>\n",
       "      </button>\n",
       "      \n",
       "  <style>\n",
       "    .colab-df-container {\n",
       "      display:flex;\n",
       "      flex-wrap:wrap;\n",
       "      gap: 12px;\n",
       "    }\n",
       "\n",
       "    .colab-df-convert {\n",
       "      background-color: #E8F0FE;\n",
       "      border: none;\n",
       "      border-radius: 50%;\n",
       "      cursor: pointer;\n",
       "      display: none;\n",
       "      fill: #1967D2;\n",
       "      height: 32px;\n",
       "      padding: 0 0 0 0;\n",
       "      width: 32px;\n",
       "    }\n",
       "\n",
       "    .colab-df-convert:hover {\n",
       "      background-color: #E2EBFA;\n",
       "      box-shadow: 0px 1px 2px rgba(60, 64, 67, 0.3), 0px 1px 3px 1px rgba(60, 64, 67, 0.15);\n",
       "      fill: #174EA6;\n",
       "    }\n",
       "\n",
       "    [theme=dark] .colab-df-convert {\n",
       "      background-color: #3B4455;\n",
       "      fill: #D2E3FC;\n",
       "    }\n",
       "\n",
       "    [theme=dark] .colab-df-convert:hover {\n",
       "      background-color: #434B5C;\n",
       "      box-shadow: 0px 1px 3px 1px rgba(0, 0, 0, 0.15);\n",
       "      filter: drop-shadow(0px 1px 2px rgba(0, 0, 0, 0.3));\n",
       "      fill: #FFFFFF;\n",
       "    }\n",
       "  </style>\n",
       "\n",
       "      <script>\n",
       "        const buttonEl =\n",
       "          document.querySelector('#df-21c6e803-5a8e-4607-b689-88c836c1e1cf button.colab-df-convert');\n",
       "        buttonEl.style.display =\n",
       "          google.colab.kernel.accessAllowed ? 'block' : 'none';\n",
       "\n",
       "        async function convertToInteractive(key) {\n",
       "          const element = document.querySelector('#df-21c6e803-5a8e-4607-b689-88c836c1e1cf');\n",
       "          const dataTable =\n",
       "            await google.colab.kernel.invokeFunction('convertToInteractive',\n",
       "                                                     [key], {});\n",
       "          if (!dataTable) return;\n",
       "\n",
       "          const docLinkHtml = 'Like what you see? Visit the ' +\n",
       "            '<a target=\"_blank\" href=https://colab.research.google.com/notebooks/data_table.ipynb>data table notebook</a>'\n",
       "            + ' to learn more about interactive tables.';\n",
       "          element.innerHTML = '';\n",
       "          dataTable['output_type'] = 'display_data';\n",
       "          await google.colab.output.renderOutput(dataTable, element);\n",
       "          const docLink = document.createElement('div');\n",
       "          docLink.innerHTML = docLinkHtml;\n",
       "          element.appendChild(docLink);\n",
       "        }\n",
       "      </script>\n",
       "    </div>\n",
       "  </div>\n",
       "  "
      ],
      "text/plain": [
       "                x0           x1            x2           x3             x4  \\\n",
       "count  1000.000000  1000.000000   1000.000000  1000.000000    1000.000000   \n",
       "mean     -0.446480    -3.258422    972.164443     2.683595  -15223.844321   \n",
       "std       4.848252     3.821898   6014.096180     8.101386   46492.138392   \n",
       "min     -14.148505   -14.903757 -10812.703141   -18.447797 -134363.352678   \n",
       "25%      -4.238572    -5.781788  -3451.648280    -3.010019  -48570.584249   \n",
       "50%      -0.206050    -3.100466   -692.774311     5.136430  -23643.188750   \n",
       "75%       3.227986    -0.745846   4873.177847     9.007916   17838.612565   \n",
       "max      13.328351     7.490518  21240.793243    18.777423  117789.412344   \n",
       "\n",
       "                x5           x6           x7           x8           x9  ...  \\\n",
       "count  1000.000000  1000.000000  1000.000000  1000.000000  1000.000000  ...   \n",
       "mean     -3.307760    -0.698090     1.167586    -0.287445    -1.319686  ...   \n",
       "std       7.153350     6.353717     6.219099     4.482543     7.948301  ...   \n",
       "min     -17.005798   -16.321447   -13.348064   -12.251716   -17.723157  ...   \n",
       "25%      -8.532087    -5.310980    -3.878949    -3.485504    -8.829510  ...   \n",
       "50%      -5.644529    -0.894733     0.529786    -0.034850    -1.340854  ...   \n",
       "75%       1.604637     3.644983     5.893293     2.778840     6.239338  ...   \n",
       "max      16.339945    16.955888    17.004956    12.756255    15.230422  ...   \n",
       "\n",
       "               x11          x12          x13          x14          x15  \\\n",
       "count  1000.000000  1000.000000  1000.000000  1000.000000  1000.000000   \n",
       "mean     -2.735626    -0.240692    -5.374137     3.675314    24.358780   \n",
       "std       5.947110     7.226563     3.964847     5.222162   634.547476   \n",
       "min     -15.939166   -17.822569   -17.014093    -7.924312 -1490.411043   \n",
       "25%      -7.731201    -6.856448    -8.262544    -0.468164  -494.470697   \n",
       "50%      -2.922588    -0.257889    -5.631448     3.553629   -52.295104   \n",
       "75%       2.259061     6.335427    -2.822518     7.813286   537.951245   \n",
       "max      11.568534    15.149617     5.356590    18.780347  1866.109336   \n",
       "\n",
       "               x16          x17          x18          x19        label  \n",
       "count  1000.000000  1000.000000  1000.000000  1000.000000  1000.000000  \n",
       "mean      1.084296     3.546447     1.811112    -4.814180     1.500000  \n",
       "std       4.667791     5.043209     6.853393     5.278691     1.118593  \n",
       "min     -10.783135   -10.775471   -16.603713   -16.427949     0.000000  \n",
       "25%      -2.537098    -0.381673    -3.401689    -8.510613     0.750000  \n",
       "50%       1.010569     3.508942     3.443937    -5.891443     1.500000  \n",
       "75%       4.632213     7.472954     6.937103    -1.221350     2.250000  \n",
       "max      14.947688    16.889006    16.908193    10.902549     3.000000  \n",
       "\n",
       "[8 rows x 21 columns]"
      ]
     },
     "execution_count": 217,
     "metadata": {},
     "output_type": "execute_result"
    }
   ],
   "source": [
    "#description\n",
    "df.describe()"
   ]
  },
  {
   "cell_type": "markdown",
   "metadata": {
    "id": "1kEGRH1lute2"
   },
   "source": [
    "### Perform classification\n",
    "1. Prepare datasets for training and test"
   ]
  },
  {
   "cell_type": "code",
   "execution_count": 231,
   "metadata": {
    "colab": {
     "base_uri": "https://localhost:8080/"
    },
    "id": "uNTOxBKMoq46",
    "outputId": "e1e7974d-7a68-44c4-ea00-26c18b0dd0e9"
   },
   "outputs": [
    {
     "name": "stdout",
     "output_type": "stream",
     "text": [
      "(700, 20) (300, 20)\n"
     ]
    }
   ],
   "source": [
    "X_train, X_test, y_train, y_test = train_test_split(X,y,test_size=0.3)\n",
    "print(X_train.shape, X_test.shape)"
   ]
  },
  {
   "cell_type": "markdown",
   "metadata": {
    "id": "-r9IhiRCvjSO"
   },
   "source": [
    "2. Create the classifier and fit to the training dataset"
   ]
  },
  {
   "cell_type": "code",
   "execution_count": 232,
   "metadata": {
    "colab": {
     "base_uri": "https://localhost:8080/"
    },
    "id": "K47hXE_mvUBx",
    "outputId": "9bed31c0-19aa-4f79-c6dc-69ee38165a81"
   },
   "outputs": [
    {
     "data": {
      "text/plain": [
       "NearestCentroid()"
      ]
     },
     "execution_count": 232,
     "metadata": {},
     "output_type": "execute_result"
    }
   ],
   "source": [
    "clf = NearestCentroid()\n",
    "clf.fit(X_train, y_train)"
   ]
  },
  {
   "cell_type": "markdown",
   "metadata": {
    "id": "d7K0Hswmv7KL"
   },
   "source": [
    "3. Test it (evaluation): predict the label of the test samples"
   ]
  },
  {
   "cell_type": "code",
   "execution_count": 233,
   "metadata": {
    "id": "ffaGI44wv-Av"
   },
   "outputs": [],
   "source": [
    "y_pred = clf.predict(X_test)"
   ]
  },
  {
   "cell_type": "markdown",
   "metadata": {
    "id": "sxO7SIsdwRP5"
   },
   "source": [
    "4. Compute the error rate"
   ]
  },
  {
   "cell_type": "code",
   "execution_count": 234,
   "metadata": {
    "colab": {
     "base_uri": "https://localhost:8080/"
    },
    "id": "YiGLl4EFwKsY",
    "outputId": "4b6f950e-c85e-413d-b3e8-8ea4b71f0cdd"
   },
   "outputs": [
    {
     "name": "stdout",
     "output_type": "stream",
     "text": [
      "Accuracy on the test set = 0.66\n"
     ]
    }
   ],
   "source": [
    "accuracy = accuracy_score(y_pred, y_test)\n",
    "print(f\"Accuracy on the test set = {accuracy:.2f}\")\n",
    "                          "
   ]
  },
  {
   "cell_type": "markdown",
   "metadata": {
    "id": "n2789fooxVEk"
   },
   "source": [
    "### Try improving performance (accuracy) by feature scaling"
   ]
  },
  {
   "cell_type": "code",
   "execution_count": 235,
   "metadata": {
    "colab": {
     "base_uri": "https://localhost:8080/"
    },
    "id": "KSNyyz1kweDm",
    "outputId": "87b563d9-f8cc-4796-a330-f1241cc6fe11"
   },
   "outputs": [
    {
     "name": "stdout",
     "output_type": "stream",
     "text": [
      "Accuracy on the test set = 1.00\n"
     ]
    }
   ],
   "source": [
    "# using MinMaxScaler\n",
    "scaler_mm = MinMaxScaler()\n",
    "X_train_mm = scaler_mm.fit_transform(X_train)\n",
    "X_test_mm = scaler_mm.transform(X_test)\n",
    "# train and evaluate the classifier model using the scaled features\n",
    "clf.fit(X_train_mm, y_train)\n",
    "y_pred_mm = clf.predict(X_test_mm)\n",
    "accuracy_mm = accuracy_score(y_pred_mm, y_test)\n",
    "print(f\"Accuracy on the test set = {accuracy_mm:.2f}\")"
   ]
  },
  {
   "cell_type": "code",
   "execution_count": 236,
   "metadata": {
    "colab": {
     "base_uri": "https://localhost:8080/"
    },
    "id": "DS-G2jB8zDUC",
    "outputId": "a686e66d-8890-438b-d63e-acc4743e95aa"
   },
   "outputs": [
    {
     "name": "stdout",
     "output_type": "stream",
     "text": [
      "Accuracy on the test set = 1.00\n"
     ]
    }
   ],
   "source": [
    "# using z-score scaler\n",
    "scaler_z = StandardScaler()\n",
    "X_train_z = scaler_z.fit_transform(X_train)\n",
    "X_test_z = scaler_z.transform(X_test)\n",
    "# train and evaluate the classifier model using the scaled features\n",
    "clf.fit(X_train_z, y_train)\n",
    "y_pred_z = clf.predict(X_test_z)\n",
    "accuracy_z = accuracy_score(y_pred_z, y_test)\n",
    "print(f\"Accuracy on the test set = {accuracy_z:.2f}\")"
   ]
  },
  {
   "cell_type": "code",
   "execution_count": 237,
   "metadata": {
    "colab": {
     "base_uri": "https://localhost:8080/"
    },
    "id": "0niu6XthY3Gi",
    "outputId": "472b3589-d67e-4af8-ec3b-219fcf71b6a8"
   },
   "outputs": [
    {
     "name": "stdout",
     "output_type": "stream",
     "text": [
      "Accuracy on the train set = 1.00\n"
     ]
    }
   ],
   "source": [
    "y_tr_pred = clf.predict(X_train_z)\n",
    "accuracy_tr = accuracy_score(y_tr_pred, y_train)\n",
    "print(f\"Accuracy on the train set = {accuracy_tr:.2f}\")"
   ]
  },
  {
   "cell_type": "markdown",
   "metadata": {
    "id": "SV4-rGU_18tV"
   },
   "source": [
    "### Try improve performance by dimensionality reduction\n",
    "1. Feature selection from the original dataset (without scaling)"
   ]
  },
  {
   "cell_type": "code",
   "execution_count": 252,
   "metadata": {
    "id": "-3fsrfHqFfST"
   },
   "outputs": [],
   "source": [
    "# 1. create a model used to evaulated the quality fo the feature subsets selected\n",
    "nn = KNeighborsClassifier(n_neighbors=1)\n",
    "# create the feature selection model, fit it to train data and then apply it on the train and the test\n",
    "sfs = SequentialFeatureSelector(nn, n_features_to_select=10, direction = 'forward') # direction=backward for SBS\n",
    "sfs.fit(X_train, y_train)\n",
    "X_train_reduced = sfs.transform(X_train)\n",
    "X_test_reduced = sfs.transform(X_test)"
   ]
  },
  {
   "cell_type": "code",
   "execution_count": 250,
   "metadata": {
    "colab": {
     "base_uri": "https://localhost:8080/"
    },
    "id": "TZ1mfDvjbd-m",
    "outputId": "1d253f6f-5f2b-47ec-9887-b73540c95f03"
   },
   "outputs": [
    {
     "data": {
      "text/plain": [
       "array([False, False,  True, False,  True, False, False, False, False,\n",
       "       False, False, False, False, False, False, False, False, False,\n",
       "       False, False])"
      ]
     },
     "execution_count": 250,
     "metadata": {},
     "output_type": "execute_result"
    }
   ],
   "source": [
    "sfs.support_"
   ]
  },
  {
   "cell_type": "code",
   "execution_count": 253,
   "metadata": {
    "colab": {
     "base_uri": "https://localhost:8080/"
    },
    "id": "jTHOLlzBF6bc",
    "outputId": "9a101fe3-542c-4164-c104-1d6fe6f223b5"
   },
   "outputs": [
    {
     "name": "stdout",
     "output_type": "stream",
     "text": [
      "Accuracy on the test set = 0.66\n"
     ]
    }
   ],
   "source": [
    "# train and evaluate the model using the selected features\n",
    "clf.fit(X_train_reduced, y_train)\n",
    "y_pred_sfs = clf.predict(X_test_reduced)\n",
    "accuracy_sfs = accuracy_score(y_pred_sfs, y_test)\n",
    "print(f\"Accuracy on the test set = {accuracy_sfs:.2f}\")"
   ]
  },
  {
   "cell_type": "markdown",
   "metadata": {
    "id": "wMcFi66UFgTD"
   },
   "source": [
    "2. Feature selection from the scaled dataset"
   ]
  },
  {
   "cell_type": "code",
   "execution_count": 254,
   "metadata": {
    "id": "koyFX2e9zgGK"
   },
   "outputs": [],
   "source": [
    "# work on scaled data, for example minmaxscaler\n",
    "# 1. create a model used to evaulated the quality fo the feature subsets selected\n",
    "nn = KNeighborsClassifier(n_neighbors=1)\n",
    "# create the feature selection model, fit it to train data and then apply it on the train and the test\n",
    "sfs = SequentialFeatureSelector(nn, n_features_to_select=5, direction = 'forward') # direction=backward for SBS\n",
    "sfs.fit(X_train_mm, y_train)\n",
    "X_train_reduced = sfs.transform(X_train_mm)\n",
    "X_test_reduced = sfs.transform(X_test_mm)\n"
   ]
  },
  {
   "cell_type": "code",
   "execution_count": 255,
   "metadata": {
    "colab": {
     "base_uri": "https://localhost:8080/"
    },
    "id": "KlplL4CNCp0i",
    "outputId": "9e5cd46d-6850-4530-fe20-bc7a32046c4e"
   },
   "outputs": [
    {
     "name": "stdout",
     "output_type": "stream",
     "text": [
      "Accuracy on the test set = 1.00\n"
     ]
    }
   ],
   "source": [
    "# train and evaluate the model using the selected features\n",
    "clf.fit(X_train_reduced, y_train)\n",
    "y_pred_sfs = clf.predict(X_test_reduced)\n",
    "accuracy_sfs = accuracy_score(y_pred_sfs, y_test)\n",
    "print(f\"Accuracy on the test set = {accuracy_sfs:.2f}\")"
   ]
  },
  {
   "cell_type": "code",
   "execution_count": null,
   "metadata": {
    "id": "lCEquHvpDtK8"
   },
   "outputs": [],
   "source": [
    "X_train_reduced"
   ]
  },
  {
   "cell_type": "code",
   "execution_count": null,
   "metadata": {
    "id": "Yo163m0-DxON"
   },
   "outputs": [],
   "source": [
    "X_test_mm"
   ]
  },
  {
   "cell_type": "code",
   "execution_count": null,
   "metadata": {
    "colab": {
     "base_uri": "https://localhost:8080/"
    },
    "id": "MkuytwFMD824",
    "outputId": "be23bfb4-0f11-49a3-ea6d-610aaf53dc18"
   },
   "outputs": [
    {
     "data": {
      "text/plain": [
       "array([False, False, False,  True, False, False, False, False, False,\n",
       "       False, False, False, False, False,  True,  True, False, False,\n",
       "        True,  True])"
      ]
     },
     "execution_count": 201,
     "metadata": {},
     "output_type": "execute_result"
    }
   ],
   "source": [
    "sfs.support_"
   ]
  },
  {
   "cell_type": "code",
   "execution_count": null,
   "metadata": {
    "id": "cuxa_g-2D_SD"
   },
   "outputs": [],
   "source": []
  }
 ],
 "metadata": {
  "colab": {
   "provenance": []
  },
  "kernelspec": {
   "display_name": "Python 3 (ipykernel)",
   "language": "python",
   "name": "python3"
  },
  "language_info": {
   "codemirror_mode": {
    "name": "ipython",
    "version": 3
   },
   "file_extension": ".py",
   "mimetype": "text/x-python",
   "name": "python",
   "nbconvert_exporter": "python",
   "pygments_lexer": "ipython3",
   "version": "3.9.7"
  }
 },
 "nbformat": 4,
 "nbformat_minor": 1
}
